{
 "cells": [
  {
   "cell_type": "code",
   "execution_count": null,
   "metadata": {},
   "outputs": [
    {
     "name": "stdout",
     "output_type": "stream",
     "text": [
      "* Running on local URL:  http://127.0.0.1:7862\n",
      "\n",
      "To create a public link, set `share=True` in `launch()`.\n"
     ]
    },
    {
     "data": {
      "text/html": [
       "<div><iframe src=\"http://127.0.0.1:7862/\" width=\"100%\" height=\"500\" allow=\"autoplay; camera; microphone; clipboard-read; clipboard-write;\" frameborder=\"0\" allowfullscreen></iframe></div>"
      ],
      "text/plain": [
       "<IPython.core.display.HTML object>"
      ]
     },
     "metadata": {},
     "output_type": "display_data"
    },
    {
     "data": {
      "text/plain": []
     },
     "execution_count": 7,
     "metadata": {},
     "output_type": "execute_result"
    }
   ],
   "source": [
    "import gradio as gr\n",
    "import numpy as np\n",
    "from PIL import Image\n",
    "\n",
    "def model_a(image):\n",
    "    # Vit\n",
    "    return image\n",
    "\n",
    "def model_b(image):\n",
    "    # Cnn1\n",
    "    return image\n",
    "\n",
    "def model_c(image):\n",
    "    # Cnn2\n",
    "    return image\n",
    "\n",
    "def segment_image(image, model_choice):\n",
    "    if model_choice == \"Model A\":\n",
    "        return model_a(image)\n",
    "    elif model_choice == \"Model B\":\n",
    "        return model_b(image)\n",
    "    elif model_choice == \"Model C\":\n",
    "        return model_c(image)\n",
    "\n",
    "demo = gr.Interface(\n",
    "    fn=segment_image,\n",
    "    inputs=[gr.Image(type=\"pil\"), gr.Dropdown(choices=[\"Model A\", \"Model B\", \"Model C\"], label=\"Select Model\")],\n",
    "    outputs=gr.Image(type=\"pil\")\n",
    ")\n",
    "\n",
    "demo.launch()"
   ]
  }
 ],
 "metadata": {
  "language_info": {
   "name": "python"
  }
 },
 "nbformat": 4,
 "nbformat_minor": 2
}
