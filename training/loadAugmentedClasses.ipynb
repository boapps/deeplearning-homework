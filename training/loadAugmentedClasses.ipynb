{
 "cells": [
  {
   "cell_type": "code",
   "execution_count": null,
   "metadata": {},
   "outputs": [
    {
     "name": "stderr",
     "output_type": "stream",
     "text": [
      "Collecting image names from JSON files: 100%|██████████| 716/716 [00:00<00:00, 1570.18it/s]\n",
      "Loading images and masks from relations: 100%|██████████| 2391/2391 [00:18<00:00, 128.49it/s]\n",
      "Loading augmented images and masks: 100%|██████████| 47/47 [00:00<00:00, 125.32it/s]\n"
     ]
    },
    {
     "name": "stdout",
     "output_type": "stream",
     "text": [
      "Loaded 2438 images and 2438 masks from ../data/VOCdevkit/VOC2012/JPEGImages and ../data/VOCdevkit/VOC2012/AugmentedImages based on JSON files and augmented images.\n"
     ]
    }
   ],
   "source": [
    "import os\n",
    "import json\n",
    "import numpy as np\n",
    "import tensorflow as tf\n",
    "from tensorflow.keras.preprocessing.image import load_img, img_to_array\n",
    "from tqdm import tqdm\n",
    "\n",
    "def load_images_and_masks(relation_folder, image_dir, mask_dir, augmented_dir, target_size=(128, 128), num_classes=21):\n",
    "    collected_image_names = set()\n",
    "\n",
    "    json_files = [f for f in os.listdir(relation_folder) if f.endswith('.json')]\n",
    "    for json_file in tqdm(json_files, desc=\"Collecting image names from JSON files\"):\n",
    "        json_path = os.path.join(relation_folder, json_file)\n",
    "        with open(json_path, 'r') as f:\n",
    "            data = json.load(f)\n",
    "            file_names = data.get(\"fileNames\", [])\n",
    "            for file_name in file_names:\n",
    "                base_name = os.path.splitext(file_name)[0]\n",
    "                collected_image_names.add(base_name)\n",
    "    \n",
    "    images = []\n",
    "    masks = []\n",
    "    \n",
    "    for base_name in tqdm(sorted(collected_image_names), desc=\"Loading images and masks from relations\"):\n",
    "        img_path = os.path.join(image_dir, f\"{base_name}.jpg\")\n",
    "        mask_path = os.path.join(mask_dir, f\"{base_name}.png\")\n",
    "        \n",
    "        if os.path.exists(img_path):\n",
    "            img = load_img(img_path, target_size=target_size)\n",
    "            img = img_to_array(img) / 255.0\n",
    "            images.append(img)\n",
    "        \n",
    "        if os.path.exists(mask_path):\n",
    "            mask = load_img(mask_path, target_size=target_size, color_mode='grayscale')\n",
    "            mask = img_to_array(mask).astype(np.int32)\n",
    "            mask = np.squeeze(mask, axis=-1)\n",
    "            \n",
    "            mask[mask > 20] = 0\n",
    "            \n",
    "            mask = tf.keras.utils.to_categorical(mask, num_classes=num_classes)\n",
    "            masks.append(mask)\n",
    "    \n",
    "    augmented_files = os.listdir(augmented_dir)\n",
    "    augmented_base_names = {f.split('-')[0] for f in augmented_files}\n",
    "    \n",
    "    for base_name in tqdm(sorted(augmented_base_names), desc=\"Loading augmented images and masks\"):\n",
    "        img_files = [f for f in augmented_files if f.startswith(base_name)]\n",
    "        for img_file in img_files:\n",
    "            aug_img_path = os.path.join(augmented_dir, img_file)\n",
    "            mask_path = os.path.join(mask_dir, f\"{base_name}.png\")\n",
    "            \n",
    "            if os.path.exists(aug_img_path):\n",
    "                img = load_img(aug_img_path, target_size=target_size)\n",
    "                img = img_to_array(img) / 255.0\n",
    "                images.append(img)\n",
    "            \n",
    "            if os.path.exists(mask_path):\n",
    "                mask = load_img(mask_path, target_size=target_size, color_mode='grayscale')\n",
    "                mask = img_to_array(mask).astype(np.int32)\n",
    "                mask = np.squeeze(mask, axis=-1)\n",
    "                \n",
    "                mask[mask > 20] = 0\n",
    "                \n",
    "                mask = tf.keras.utils.to_categorical(mask, num_classes=num_classes)\n",
    "                masks.append(mask)\n",
    "    \n",
    "    return np.array(images), np.array(masks)\n",
    "\n",
    "relation_folder = '../data/relations'\n",
    "image_dir = '../data/VOCdevkit/VOC2012/JPEGImages'\n",
    "mask_dir = '../data/VOCdevkit/VOC2012/SegmentationClass'\n",
    "augmented_dir = '../data/VOCdevkit/VOC2012/AugmentedImages'\n",
    "\n",
    "images, masks = load_images_and_masks(relation_folder, image_dir, mask_dir, augmented_dir)\n",
    "print(f\"Loaded {len(images)} images and {len(masks)} masks from {image_dir} and {augmented_dir} based on JSON files and augmented images.\")\n"
   ]
  }
 ],
 "metadata": {
  "kernelspec": {
   "display_name": "DL_test",
   "language": "python",
   "name": "python3"
  },
  "language_info": {
   "codemirror_mode": {
    "name": "ipython",
    "version": 3
   },
   "file_extension": ".py",
   "mimetype": "text/x-python",
   "name": "python",
   "nbconvert_exporter": "python",
   "pygments_lexer": "ipython3",
   "version": "3.10.15"
  }
 },
 "nbformat": 4,
 "nbformat_minor": 2
}
