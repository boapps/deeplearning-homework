{
 "cells": [
  {
   "cell_type": "code",
   "execution_count": 4,
   "metadata": {},
   "outputs": [
    {
     "name": "stdout",
     "output_type": "stream",
     "text": [
      "Loaded 47 images and 47 masks from ../data/VOCdevkit/VOC2012/SegmentationClass with corresponding augmented images.\n"
     ]
    }
   ],
   "source": [
    "import os\n",
    "import numpy as np\n",
    "import tensorflow as tf\n",
    "from tensorflow.keras.preprocessing.image import load_img, img_to_array\n",
    "\n",
    "def load_augmented_images_with_masks(image_dir, augmented_dir, target_size=(128, 128), num_classes=21):\n",
    "    augmented_files = os.listdir(augmented_dir)\n",
    "    base_names = {f.split('-')[0] for f in augmented_files}\n",
    "    \n",
    "    images = []\n",
    "    masks = []\n",
    "    \n",
    "    for img_file in sorted(os.listdir(image_dir)):\n",
    "        base_name = os.path.splitext(img_file)[0]\n",
    "        \n",
    "        if base_name in base_names:\n",
    "            img = load_img(os.path.join(image_dir, img_file), target_size=target_size)\n",
    "            img = img_to_array(img) / 255.0\n",
    "            images.append(img)\n",
    "            \n",
    "            mask_path = os.path.join(image_dir, img_file)\n",
    "            mask = load_img(mask_path, target_size=target_size, color_mode='grayscale')\n",
    "            mask = img_to_array(mask).astype(np.int32)\n",
    "            mask = np.squeeze(mask, axis=-1)\n",
    "            \n",
    "            mask[mask > 20] = 0\n",
    "            \n",
    "            mask = tf.keras.utils.to_categorical(mask, num_classes=num_classes)\n",
    "            masks.append(mask)\n",
    "    \n",
    "    return np.array(images), np.array(masks)\n",
    "\n",
    "image_dir = '../data/VOCdevkit/VOC2012/SegmentationClass'\n",
    "augmented_dir = '../data/VOCdevkit/VOC2012/AugmentedImages'\n",
    "\n",
    "images, masks = load_augmented_images_with_masks(image_dir, augmented_dir)\n",
    "print(f\"Loaded {len(images)} images and {len(masks)} masks from {image_dir} with corresponding augmented images.\")\n"
   ]
  }
 ],
 "metadata": {
  "kernelspec": {
   "display_name": "DL_test",
   "language": "python",
   "name": "python3"
  },
  "language_info": {
   "codemirror_mode": {
    "name": "ipython",
    "version": 3
   },
   "file_extension": ".py",
   "mimetype": "text/x-python",
   "name": "python",
   "nbconvert_exporter": "python",
   "pygments_lexer": "ipython3",
   "version": "3.10.15"
  }
 },
 "nbformat": 4,
 "nbformat_minor": 2
}
