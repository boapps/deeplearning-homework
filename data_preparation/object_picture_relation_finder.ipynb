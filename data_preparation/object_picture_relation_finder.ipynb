{
 "cells": [
  {
   "cell_type": "code",
   "execution_count": 3,
   "metadata": {},
   "outputs": [
    {
     "name": "stderr",
     "output_type": "stream",
     "text": [
      "Processing XML files: 100%|██████████| 17125/17125 [03:59<00:00, 71.35it/s]\n"
     ]
    }
   ],
   "source": [
    "import os\n",
    "import xml.etree.ElementTree as ET\n",
    "import json\n",
    "from collections import Counter\n",
    "from tqdm import tqdm  # Import tqdm for progress tracking\n",
    "\n",
    "def create_json_file(object_names_count, folder, filename):\n",
    "    # Create a JSON file name based on the objects and their counts\n",
    "    json_filename = \"_\".join([f\"{obj}{count}\" for obj, count in object_names_count.items()]) + \".json\"\n",
    "    json_filepath = os.path.join(folder, json_filename)\n",
    "\n",
    "    # If the JSON file already exists, load the existing data\n",
    "    if os.path.exists(json_filepath):\n",
    "        with open(json_filepath, 'r') as json_file:\n",
    "            data = json.load(json_file)\n",
    "    else:\n",
    "        data = {\"fileNames\": []}\n",
    "    \n",
    "    # Add the filename to the list\n",
    "    if filename not in data[\"fileNames\"]:\n",
    "        data[\"fileNames\"].append(filename)\n",
    "\n",
    "    # Write the updated data to the JSON file\n",
    "    with open(json_filepath, 'w') as json_file:\n",
    "        json.dump(data, json_file, indent=4)\n",
    "\n",
    "def process_xml_file(xml_path, output_folder):\n",
    "    tree = ET.parse(xml_path)\n",
    "    root = tree.getroot()\n",
    "\n",
    "    # Extract filename\n",
    "    filename = root.find('filename').text\n",
    "\n",
    "    # Collect object names\n",
    "    object_names = [obj.find('name').text for obj in root.findall('object')]\n",
    "\n",
    "    # Count the occurrence of each object name\n",
    "    object_names_count = Counter(object_names)\n",
    "\n",
    "    # Create the folder if it does not exist\n",
    "    if not os.path.exists(output_folder):\n",
    "        os.makedirs(output_folder)\n",
    "\n",
    "    # Create JSON file based on the object names and their counts\n",
    "    create_json_file(object_names_count, output_folder, filename)\n",
    "\n",
    "def iterate_xml_folder(input_folder, output_folder):\n",
    "    # Get the list of XML files in the folder\n",
    "    xml_files = [f for f in os.listdir(input_folder) if f.endswith('.xml')]\n",
    "    \n",
    "    # Iterate over the XML files with a progress bar\n",
    "    for xml_file in tqdm(xml_files, desc=\"Processing XML files\"):\n",
    "        xml_path = os.path.join(input_folder, xml_file)\n",
    "        process_xml_file(xml_path, output_folder)\n",
    "\n",
    "if __name__ == \"__main__\":\n",
    "    input_folder = '../data/VOCdevkit/VOC2012/Annotations'  # Replace with the path to your folder containing XML files\n",
    "    output_folder = './relations'  # Replace with the path where you want to store JSON files\n",
    "\n",
    "    iterate_xml_folder(input_folder, output_folder)\n"
   ]
  }
 ],
 "metadata": {
  "kernelspec": {
   "display_name": "base",
   "language": "python",
   "name": "python3"
  },
  "language_info": {
   "codemirror_mode": {
    "name": "ipython",
    "version": 3
   },
   "file_extension": ".py",
   "mimetype": "text/x-python",
   "name": "python",
   "nbconvert_exporter": "python",
   "pygments_lexer": "ipython3",
   "version": "3.10.9"
  }
 },
 "nbformat": 4,
 "nbformat_minor": 2
}
