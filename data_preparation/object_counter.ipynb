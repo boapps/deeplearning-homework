{
 "cells": [
  {
   "cell_type": "code",
   "execution_count": 1,
   "metadata": {},
   "outputs": [
    {
     "name": "stderr",
     "output_type": "stream",
     "text": [
      "Processing JSON files: 100%|██████████| 2309/2309 [00:32<00:00, 71.14it/s] "
     ]
    },
    {
     "name": "stdout",
     "output_type": "stream",
     "text": [
      "Object appearance count saved to ./distribution/object_appearance_count.json\n"
     ]
    },
    {
     "name": "stderr",
     "output_type": "stream",
     "text": [
      "\n"
     ]
    }
   ],
   "source": [
    "import os\n",
    "import json\n",
    "from collections import defaultdict\n",
    "from tqdm import tqdm\n",
    "\n",
    "def parse_json_filename(filename):\n",
    "    \"\"\"Parse the JSON filename and extract object types and their counts.\"\"\"\n",
    "    # Remove the .json extension and split the filename by underscores\n",
    "    filename = filename.replace(\".json\", \"\")\n",
    "    parts = filename.split('_')\n",
    "    \n",
    "    object_counts = {}\n",
    "    \n",
    "    # Iterate through the parts and extract object name and count\n",
    "    for part in parts:\n",
    "        # Separate object name and count (e.g., aeroplane1 -> aeroplane, 1)\n",
    "        for i in range(len(part)):\n",
    "            if part[i].isdigit():\n",
    "                obj_name = part[:i]\n",
    "                count = int(part[i:])\n",
    "                object_counts[obj_name.capitalize()] = count  # Capitalize to normalize object names\n",
    "                break\n",
    "    \n",
    "    return object_counts\n",
    "\n",
    "def process_json_file(json_path, object_counts):\n",
    "    \"\"\"Process a JSON file and count object appearances.\"\"\"\n",
    "    with open(json_path, 'r') as f:\n",
    "        data = json.load(f)\n",
    "    \n",
    "    filename = os.path.basename(json_path)\n",
    "    \n",
    "    # Extract object types and their counts from the filename\n",
    "    json_object_counts = parse_json_filename(filename)\n",
    "\n",
    "    # Count the number of filenames in the current JSON file\n",
    "    num_filenames = len(data[\"fileNames\"])\n",
    "\n",
    "    # Update the total count of objects based on the filenames and counts in the filename\n",
    "    for obj, count in json_object_counts.items():\n",
    "        object_counts[obj] += num_filenames * count\n",
    "\n",
    "def iterate_json_folder(input_folder, output_json):\n",
    "    \"\"\"Iterate through all JSON files in the input folder and count object appearances.\"\"\"\n",
    "    object_counts = defaultdict(int)  # Store object counts\n",
    "    \n",
    "    # Get the list of JSON files in the folder\n",
    "    json_files = [f for f in os.listdir(input_folder) if f.endswith('.json')]\n",
    "    \n",
    "    # Iterate over the JSON files with a progress bar\n",
    "    for json_file in tqdm(json_files, desc=\"Processing JSON files\"):\n",
    "        json_path = os.path.join(input_folder, json_file)\n",
    "        process_json_file(json_path, object_counts)\n",
    "    \n",
    "    # Save the results to the output JSON file\n",
    "    with open(output_json, 'w') as f:\n",
    "        json.dump(object_counts, f, indent=4)\n",
    "\n",
    "if __name__ == \"__main__\":\n",
    "    input_folder = './relations'  # Replace with the path to your folder containing JSON files\n",
    "    output_json = './distribution/object_appearance_count.json'  # Replace with the path to your target JSON file\n",
    "\n",
    "    # Iterate through the folder and count object appearances\n",
    "    iterate_json_folder(input_folder, output_json)\n",
    "\n",
    "    print(f\"Object appearance count saved to {output_json}\")\n"
   ]
  }
 ],
 "metadata": {
  "kernelspec": {
   "display_name": "base",
   "language": "python",
   "name": "python3"
  },
  "language_info": {
   "codemirror_mode": {
    "name": "ipython",
    "version": 3
   },
   "file_extension": ".py",
   "mimetype": "text/x-python",
   "name": "python",
   "nbconvert_exporter": "python",
   "pygments_lexer": "ipython3",
   "version": "3.10.9"
  }
 },
 "nbformat": 4,
 "nbformat_minor": 2
}
