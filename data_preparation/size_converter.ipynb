{
 "cells": [
  {
   "cell_type": "code",
   "execution_count": 4,
   "metadata": {},
   "outputs": [
    {
     "name": "stderr",
     "output_type": "stream",
     "text": [
      "Processing XML files:  76%|███████▌  | 13040/17125 [02:23<00:44, 92.76it/s] "
     ]
    },
    {
     "name": "stdout",
     "output_type": "stream",
     "text": [
      "Float found in ../data/VOCdevkit/VOC2012/Annotations\\2011_003353.xml: ymin = 45.70000076293945\n"
     ]
    },
    {
     "name": "stderr",
     "output_type": "stream",
     "text": [
      "Processing XML files:  86%|████████▌ | 14748/17125 [02:42<00:29, 80.18it/s] "
     ]
    },
    {
     "name": "stdout",
     "output_type": "stream",
     "text": [
      "Float found in ../data/VOCdevkit/VOC2012/Annotations\\2011_006777.xml: ymin = 281.70000076293945\n"
     ]
    },
    {
     "name": "stderr",
     "output_type": "stream",
     "text": [
      "Processing XML files: 100%|██████████| 17125/17125 [03:07<00:00, 91.16it/s] \n"
     ]
    }
   ],
   "source": [
    "import os\n",
    "import xml.etree.ElementTree as ET\n",
    "from tqdm import tqdm  # Import tqdm for progress tracking\n",
    "\n",
    "def convert_to_int(element, tag_name, xml_path):\n",
    "    \"\"\"Convert the text of an XML tag to an integer, and print if a float was found.\"\"\"\n",
    "    tag = element.find(tag_name)\n",
    "    if tag is not None:\n",
    "        try:\n",
    "            value = float(tag.text)\n",
    "            if value != int(value):\n",
    "                print(f\"Float found in {xml_path}: {tag_name} = {value}\")\n",
    "            tag.text = str(int(value))  # Convert to float first, then to int, and back to string\n",
    "        except ValueError:\n",
    "            print(f\"Error converting {tag_name} to int in file: {xml_path}\")\n",
    "\n",
    "def process_xml_file(xml_path):\n",
    "    \"\"\"Process an XML file and convert width, height, and bounding box values to integers.\"\"\"\n",
    "    tree = ET.parse(xml_path)\n",
    "    root = tree.getroot()\n",
    "\n",
    "    # Find the size tag and convert width and height to integers\n",
    "    size_tag = root.find('size')\n",
    "    if size_tag is not None:\n",
    "        convert_to_int(size_tag, 'width', xml_path)\n",
    "        convert_to_int(size_tag, 'height', xml_path)\n",
    "\n",
    "    # Find all bndbox tags and convert xmin, ymin, xmax, ymax to integers\n",
    "    for bndbox in root.findall('.//bndbox'):\n",
    "        convert_to_int(bndbox, 'xmin', xml_path)\n",
    "        convert_to_int(bndbox, 'ymin', xml_path)\n",
    "        convert_to_int(bndbox, 'xmax', xml_path)\n",
    "        convert_to_int(bndbox, 'ymax', xml_path)\n",
    "\n",
    "    # Save the updated XML file\n",
    "    tree.write(xml_path)\n",
    "\n",
    "def iterate_xml_folder(input_folder):\n",
    "    \"\"\"Iterate through all XML files in the input folder and process them with a progress bar.\"\"\"\n",
    "    xml_files = [f for f in os.listdir(input_folder) if f.endswith('.xml')]  # List of XML files\n",
    "    \n",
    "    # Use tqdm to show progress bar\n",
    "    for xml_file in tqdm(xml_files, desc=\"Processing XML files\"):\n",
    "        xml_path = os.path.join(input_folder, xml_file)\n",
    "        process_xml_file(xml_path)\n",
    "\n",
    "if __name__ == \"__main__\":\n",
    "    input_folder = '../data/VOCdevkit/VOC2012/Annotations'  # Replace with the path to your folder containing XML files\n",
    "\n",
    "    # Iterate through the folder and process XML files with a loader\n",
    "    iterate_xml_folder(input_folder)\n"
   ]
  }
 ],
 "metadata": {
  "kernelspec": {
   "display_name": "base",
   "language": "python",
   "name": "python3"
  },
  "language_info": {
   "codemirror_mode": {
    "name": "ipython",
    "version": 3
   },
   "file_extension": ".py",
   "mimetype": "text/x-python",
   "name": "python",
   "nbconvert_exporter": "python",
   "pygments_lexer": "ipython3",
   "version": "3.10.9"
  }
 },
 "nbformat": 4,
 "nbformat_minor": 2
}
