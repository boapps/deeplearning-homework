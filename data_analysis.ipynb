{
 "cells": [
  {
   "cell_type": "markdown",
   "metadata": {},
   "source": [
    "## Exploratory data analysis"
   ]
  },
  {
   "cell_type": "code",
   "execution_count": 14,
   "metadata": {},
   "outputs": [],
   "source": [
    "import jsonlines\n",
    "import pandas as pd"
   ]
  },
  {
   "cell_type": "markdown",
   "metadata": {},
   "source": [
    "### load dataset"
   ]
  },
  {
   "cell_type": "code",
   "execution_count": 15,
   "metadata": {},
   "outputs": [],
   "source": [
    "data_image = []\n",
    "with jsonlines.open('data/dataset.jsonl') as reader:\n",
    "    data_image = list(reader)\n"
   ]
  },
  {
   "cell_type": "code",
   "execution_count": 16,
   "metadata": {},
   "outputs": [
    {
     "data": {
      "text/plain": [
       "{'filename': '2009_004203.jpg',\n",
       " 'folder': 'VOC2012',\n",
       " 'object': [{'bndbox_xmax': 483,\n",
       "   'bndbox_xmin': 23,\n",
       "   'bndbox_ymax': 222,\n",
       "   'bndbox_ymin': 113,\n",
       "   'difficult': '0',\n",
       "   'name': 'aeroplane',\n",
       "   'occluded': '0',\n",
       "   'pose': 'Right',\n",
       "   'truncated': '0'}],\n",
       " 'segmented': False,\n",
       " 'size_depth': 3,\n",
       " 'size_height': 333,\n",
       " 'size_width': 500,\n",
       " 'source_annotation': 'PASCAL VOC2009',\n",
       " 'source_database': 'The VOC2009 Database',\n",
       " 'source_image': 'flickr'}"
      ]
     },
     "execution_count": 16,
     "metadata": {},
     "output_type": "execute_result"
    }
   ],
   "source": [
    "data_image[0]"
   ]
  },
  {
   "cell_type": "code",
   "execution_count": 21,
   "metadata": {},
   "outputs": [],
   "source": [
    "def process(image):\n",
    "    image['object_names'] = [o['name'] for o in image['object']]\n",
    "    return image\n",
    "\n",
    "data_image = [process(image) for image in data_image]\n",
    "data_object = [obj for image in data_image for obj in image['object']]"
   ]
  },
  {
   "cell_type": "code",
   "execution_count": 24,
   "metadata": {},
   "outputs": [],
   "source": [
    "df_image = pd.DataFrame(data_image)\n",
    "df_object = pd.DataFrame(data_object)"
   ]
  },
  {
   "cell_type": "code",
   "execution_count": 19,
   "metadata": {},
   "outputs": [
    {
     "data": {
      "text/html": [
       "<div>\n",
       "<style scoped>\n",
       "    .dataframe tbody tr th:only-of-type {\n",
       "        vertical-align: middle;\n",
       "    }\n",
       "\n",
       "    .dataframe tbody tr th {\n",
       "        vertical-align: top;\n",
       "    }\n",
       "\n",
       "    .dataframe thead th {\n",
       "        text-align: right;\n",
       "    }\n",
       "</style>\n",
       "<table border=\"1\" class=\"dataframe\">\n",
       "  <thead>\n",
       "    <tr style=\"text-align: right;\">\n",
       "      <th></th>\n",
       "      <th>filename</th>\n",
       "      <th>folder</th>\n",
       "      <th>object</th>\n",
       "      <th>segmented</th>\n",
       "      <th>size_depth</th>\n",
       "      <th>size_height</th>\n",
       "      <th>size_width</th>\n",
       "      <th>source_annotation</th>\n",
       "      <th>source_database</th>\n",
       "      <th>source_image</th>\n",
       "      <th>object_names</th>\n",
       "    </tr>\n",
       "  </thead>\n",
       "  <tbody>\n",
       "    <tr>\n",
       "      <th>0</th>\n",
       "      <td>2009_004203.jpg</td>\n",
       "      <td>VOC2012</td>\n",
       "      <td>[{'bndbox_xmax': 483, 'bndbox_xmin': 23, 'bndb...</td>\n",
       "      <td>False</td>\n",
       "      <td>3</td>\n",
       "      <td>333</td>\n",
       "      <td>500</td>\n",
       "      <td>PASCAL VOC2009</td>\n",
       "      <td>The VOC2009 Database</td>\n",
       "      <td>flickr</td>\n",
       "      <td>[aeroplane]</td>\n",
       "    </tr>\n",
       "    <tr>\n",
       "      <th>1</th>\n",
       "      <td>2011_004526.jpg</td>\n",
       "      <td>VOC2011</td>\n",
       "      <td>[{'actions_jumping': '0', 'actions_other': '0'...</td>\n",
       "      <td>False</td>\n",
       "      <td>3</td>\n",
       "      <td>375</td>\n",
       "      <td>500</td>\n",
       "      <td>PASCAL VOC2011</td>\n",
       "      <td>The VOC2011 Database</td>\n",
       "      <td>flickr</td>\n",
       "      <td>[person, person]</td>\n",
       "    </tr>\n",
       "    <tr>\n",
       "      <th>2</th>\n",
       "      <td>2010_002177.jpg</td>\n",
       "      <td>VOC2012</td>\n",
       "      <td>[{'bndbox_xmax': 342, 'bndbox_xmin': 1, 'bndbo...</td>\n",
       "      <td>False</td>\n",
       "      <td>3</td>\n",
       "      <td>500</td>\n",
       "      <td>437</td>\n",
       "      <td>PASCAL VOC2010</td>\n",
       "      <td>The VOC2010 Database</td>\n",
       "      <td>flickr</td>\n",
       "      <td>[cat]</td>\n",
       "    </tr>\n",
       "    <tr>\n",
       "      <th>3</th>\n",
       "      <td>2011_001252.jpg</td>\n",
       "      <td>VOC2012</td>\n",
       "      <td>[{'bndbox_xmax': 190, 'bndbox_xmin': 125, 'bnd...</td>\n",
       "      <td>False</td>\n",
       "      <td>3</td>\n",
       "      <td>500</td>\n",
       "      <td>283</td>\n",
       "      <td>PASCAL VOC2011</td>\n",
       "      <td>The VOC2011 Database</td>\n",
       "      <td>flickr</td>\n",
       "      <td>[boat, boat, boat]</td>\n",
       "    </tr>\n",
       "    <tr>\n",
       "      <th>4</th>\n",
       "      <td>2011_002627.jpg</td>\n",
       "      <td>VOC2012</td>\n",
       "      <td>[{'bndbox_xmax': 375, 'bndbox_xmin': 1, 'bndbo...</td>\n",
       "      <td>False</td>\n",
       "      <td>3</td>\n",
       "      <td>500</td>\n",
       "      <td>375</td>\n",
       "      <td>PASCAL VOC2011</td>\n",
       "      <td>The VOC2011 Database</td>\n",
       "      <td>flickr</td>\n",
       "      <td>[person]</td>\n",
       "    </tr>\n",
       "  </tbody>\n",
       "</table>\n",
       "</div>"
      ],
      "text/plain": [
       "          filename   folder  \\\n",
       "0  2009_004203.jpg  VOC2012   \n",
       "1  2011_004526.jpg  VOC2011   \n",
       "2  2010_002177.jpg  VOC2012   \n",
       "3  2011_001252.jpg  VOC2012   \n",
       "4  2011_002627.jpg  VOC2012   \n",
       "\n",
       "                                              object  segmented  size_depth  \\\n",
       "0  [{'bndbox_xmax': 483, 'bndbox_xmin': 23, 'bndb...      False           3   \n",
       "1  [{'actions_jumping': '0', 'actions_other': '0'...      False           3   \n",
       "2  [{'bndbox_xmax': 342, 'bndbox_xmin': 1, 'bndbo...      False           3   \n",
       "3  [{'bndbox_xmax': 190, 'bndbox_xmin': 125, 'bnd...      False           3   \n",
       "4  [{'bndbox_xmax': 375, 'bndbox_xmin': 1, 'bndbo...      False           3   \n",
       "\n",
       "   size_height  size_width source_annotation       source_database  \\\n",
       "0          333         500    PASCAL VOC2009  The VOC2009 Database   \n",
       "1          375         500    PASCAL VOC2011  The VOC2011 Database   \n",
       "2          500         437    PASCAL VOC2010  The VOC2010 Database   \n",
       "3          500         283    PASCAL VOC2011  The VOC2011 Database   \n",
       "4          500         375    PASCAL VOC2011  The VOC2011 Database   \n",
       "\n",
       "  source_image        object_names  \n",
       "0       flickr         [aeroplane]  \n",
       "1       flickr    [person, person]  \n",
       "2       flickr               [cat]  \n",
       "3       flickr  [boat, boat, boat]  \n",
       "4       flickr            [person]  "
      ]
     },
     "execution_count": 19,
     "metadata": {},
     "output_type": "execute_result"
    }
   ],
   "source": [
    "df_image.head()"
   ]
  },
  {
   "cell_type": "code",
   "execution_count": 26,
   "metadata": {},
   "outputs": [
    {
     "data": {
      "text/html": [
       "<div>\n",
       "<style scoped>\n",
       "    .dataframe tbody tr th:only-of-type {\n",
       "        vertical-align: middle;\n",
       "    }\n",
       "\n",
       "    .dataframe tbody tr th {\n",
       "        vertical-align: top;\n",
       "    }\n",
       "\n",
       "    .dataframe thead th {\n",
       "        text-align: right;\n",
       "    }\n",
       "</style>\n",
       "<table border=\"1\" class=\"dataframe\">\n",
       "  <thead>\n",
       "    <tr style=\"text-align: right;\">\n",
       "      <th></th>\n",
       "      <th>bndbox_xmax</th>\n",
       "      <th>bndbox_xmin</th>\n",
       "      <th>bndbox_ymax</th>\n",
       "      <th>bndbox_ymin</th>\n",
       "      <th>difficult</th>\n",
       "      <th>name</th>\n",
       "      <th>occluded</th>\n",
       "      <th>pose</th>\n",
       "      <th>truncated</th>\n",
       "      <th>actions_jumping</th>\n",
       "      <th>...</th>\n",
       "      <th>actions_reading</th>\n",
       "      <th>actions_ridingbike</th>\n",
       "      <th>actions_ridinghorse</th>\n",
       "      <th>actions_running</th>\n",
       "      <th>actions_takingphoto</th>\n",
       "      <th>actions_usingcomputer</th>\n",
       "      <th>actions_walking</th>\n",
       "      <th>point_x</th>\n",
       "      <th>point_y</th>\n",
       "      <th>part</th>\n",
       "    </tr>\n",
       "  </thead>\n",
       "  <tbody>\n",
       "    <tr>\n",
       "      <th>0</th>\n",
       "      <td>483</td>\n",
       "      <td>23</td>\n",
       "      <td>222</td>\n",
       "      <td>113</td>\n",
       "      <td>0</td>\n",
       "      <td>aeroplane</td>\n",
       "      <td>0</td>\n",
       "      <td>Right</td>\n",
       "      <td>0</td>\n",
       "      <td>NaN</td>\n",
       "      <td>...</td>\n",
       "      <td>NaN</td>\n",
       "      <td>NaN</td>\n",
       "      <td>NaN</td>\n",
       "      <td>NaN</td>\n",
       "      <td>NaN</td>\n",
       "      <td>NaN</td>\n",
       "      <td>NaN</td>\n",
       "      <td>NaN</td>\n",
       "      <td>NaN</td>\n",
       "      <td>NaN</td>\n",
       "    </tr>\n",
       "    <tr>\n",
       "      <th>1</th>\n",
       "      <td>500</td>\n",
       "      <td>237</td>\n",
       "      <td>375</td>\n",
       "      <td>185</td>\n",
       "      <td>0</td>\n",
       "      <td>person</td>\n",
       "      <td>NaN</td>\n",
       "      <td>Unspecified</td>\n",
       "      <td>NaN</td>\n",
       "      <td>0</td>\n",
       "      <td>...</td>\n",
       "      <td>0</td>\n",
       "      <td>0</td>\n",
       "      <td>0</td>\n",
       "      <td>0</td>\n",
       "      <td>0</td>\n",
       "      <td>1</td>\n",
       "      <td>0</td>\n",
       "      <td>432</td>\n",
       "      <td>316</td>\n",
       "      <td>NaN</td>\n",
       "    </tr>\n",
       "    <tr>\n",
       "      <th>2</th>\n",
       "      <td>233</td>\n",
       "      <td>185</td>\n",
       "      <td>155</td>\n",
       "      <td>67</td>\n",
       "      <td>0</td>\n",
       "      <td>person</td>\n",
       "      <td>NaN</td>\n",
       "      <td>Unspecified</td>\n",
       "      <td>NaN</td>\n",
       "      <td>0</td>\n",
       "      <td>...</td>\n",
       "      <td>0</td>\n",
       "      <td>0</td>\n",
       "      <td>0</td>\n",
       "      <td>0</td>\n",
       "      <td>0</td>\n",
       "      <td>1</td>\n",
       "      <td>0</td>\n",
       "      <td>214</td>\n",
       "      <td>112</td>\n",
       "      <td>NaN</td>\n",
       "    </tr>\n",
       "    <tr>\n",
       "      <th>3</th>\n",
       "      <td>342</td>\n",
       "      <td>1</td>\n",
       "      <td>393</td>\n",
       "      <td>1</td>\n",
       "      <td>0</td>\n",
       "      <td>cat</td>\n",
       "      <td>0</td>\n",
       "      <td>Frontal</td>\n",
       "      <td>0</td>\n",
       "      <td>NaN</td>\n",
       "      <td>...</td>\n",
       "      <td>NaN</td>\n",
       "      <td>NaN</td>\n",
       "      <td>NaN</td>\n",
       "      <td>NaN</td>\n",
       "      <td>NaN</td>\n",
       "      <td>NaN</td>\n",
       "      <td>NaN</td>\n",
       "      <td>NaN</td>\n",
       "      <td>NaN</td>\n",
       "      <td>NaN</td>\n",
       "    </tr>\n",
       "    <tr>\n",
       "      <th>4</th>\n",
       "      <td>190</td>\n",
       "      <td>125</td>\n",
       "      <td>281</td>\n",
       "      <td>23</td>\n",
       "      <td>0</td>\n",
       "      <td>boat</td>\n",
       "      <td>0</td>\n",
       "      <td>Rear</td>\n",
       "      <td>0</td>\n",
       "      <td>NaN</td>\n",
       "      <td>...</td>\n",
       "      <td>NaN</td>\n",
       "      <td>NaN</td>\n",
       "      <td>NaN</td>\n",
       "      <td>NaN</td>\n",
       "      <td>NaN</td>\n",
       "      <td>NaN</td>\n",
       "      <td>NaN</td>\n",
       "      <td>NaN</td>\n",
       "      <td>NaN</td>\n",
       "      <td>NaN</td>\n",
       "    </tr>\n",
       "  </tbody>\n",
       "</table>\n",
       "<p>5 rows × 23 columns</p>\n",
       "</div>"
      ],
      "text/plain": [
       "   bndbox_xmax  bndbox_xmin  bndbox_ymax  bndbox_ymin difficult       name  \\\n",
       "0          483           23          222          113         0  aeroplane   \n",
       "1          500          237          375          185         0     person   \n",
       "2          233          185          155           67         0     person   \n",
       "3          342            1          393            1         0        cat   \n",
       "4          190          125          281           23         0       boat   \n",
       "\n",
       "  occluded         pose truncated actions_jumping  ... actions_reading  \\\n",
       "0        0        Right         0             NaN  ...             NaN   \n",
       "1      NaN  Unspecified       NaN               0  ...               0   \n",
       "2      NaN  Unspecified       NaN               0  ...               0   \n",
       "3        0      Frontal         0             NaN  ...             NaN   \n",
       "4        0         Rear         0             NaN  ...             NaN   \n",
       "\n",
       "  actions_ridingbike actions_ridinghorse actions_running actions_takingphoto  \\\n",
       "0                NaN                 NaN             NaN                 NaN   \n",
       "1                  0                   0               0                   0   \n",
       "2                  0                   0               0                   0   \n",
       "3                NaN                 NaN             NaN                 NaN   \n",
       "4                NaN                 NaN             NaN                 NaN   \n",
       "\n",
       "  actions_usingcomputer actions_walking point_x point_y part  \n",
       "0                   NaN             NaN     NaN     NaN  NaN  \n",
       "1                     1               0     432     316  NaN  \n",
       "2                     1               0     214     112  NaN  \n",
       "3                   NaN             NaN     NaN     NaN  NaN  \n",
       "4                   NaN             NaN     NaN     NaN  NaN  \n",
       "\n",
       "[5 rows x 23 columns]"
      ]
     },
     "execution_count": 26,
     "metadata": {},
     "output_type": "execute_result"
    }
   ],
   "source": [
    "df_object.head()"
   ]
  },
  {
   "cell_type": "markdown",
   "metadata": {},
   "source": [
    "### basic analysis"
   ]
  },
  {
   "cell_type": "markdown",
   "metadata": {},
   "source": [
    "Number of images and objects"
   ]
  },
  {
   "cell_type": "code",
   "execution_count": 36,
   "metadata": {},
   "outputs": [
    {
     "data": {
      "text/plain": [
       "17125"
      ]
     },
     "execution_count": 36,
     "metadata": {},
     "output_type": "execute_result"
    }
   ],
   "source": [
    "len(df_image)"
   ]
  },
  {
   "cell_type": "code",
   "execution_count": 39,
   "metadata": {},
   "outputs": [
    {
     "data": {
      "text/plain": [
       "40138"
      ]
     },
     "execution_count": 39,
     "metadata": {},
     "output_type": "execute_result"
    }
   ],
   "source": [
    "len(df_object)"
   ]
  },
  {
   "cell_type": "markdown",
   "metadata": {},
   "source": [
    "Only 2913 images have segmentation data"
   ]
  },
  {
   "cell_type": "code",
   "execution_count": 43,
   "metadata": {},
   "outputs": [
    {
     "data": {
      "text/plain": [
       "np.int64(2913)"
      ]
     },
     "execution_count": 43,
     "metadata": {},
     "output_type": "execute_result"
    }
   ],
   "source": [
    "df_image['segmented'].sum()"
   ]
  },
  {
   "cell_type": "markdown",
   "metadata": {},
   "source": [
    "Everything is a jpeg"
   ]
  },
  {
   "cell_type": "code",
   "execution_count": 38,
   "metadata": {},
   "outputs": [
    {
     "data": {
      "text/plain": [
       "np.int64(17125)"
      ]
     },
     "execution_count": 38,
     "metadata": {},
     "output_type": "execute_result"
    }
   ],
   "source": [
    "df_image['filename'].str.lower().str.endswith('.jpg').sum()"
   ]
  },
  {
   "cell_type": "markdown",
   "metadata": {},
   "source": [
    "All images are from flickr"
   ]
  },
  {
   "cell_type": "code",
   "execution_count": 46,
   "metadata": {},
   "outputs": [
    {
     "data": {
      "text/plain": [
       "source_image\n",
       "flickr    17125\n",
       "Name: count, dtype: int64"
      ]
     },
     "execution_count": 46,
     "metadata": {},
     "output_type": "execute_result"
    }
   ],
   "source": [
    "df_image.value_counts('source_image')"
   ]
  },
  {
   "cell_type": "markdown",
   "metadata": {},
   "source": [
    "list of data sources"
   ]
  },
  {
   "cell_type": "code",
   "execution_count": 47,
   "metadata": {},
   "outputs": [
    {
     "data": {
      "text/plain": [
       "source_annotation\n",
       "PASCAL VOC2008    4340\n",
       "PASCAL VOC2011    3640\n",
       "PASCAL VOC2010    3503\n",
       "PASCAL VOC2009    2722\n",
       "PASCAL VOC2012    2164\n",
       "PASCAL VOC2007     756\n",
       "Name: count, dtype: int64"
      ]
     },
     "execution_count": 47,
     "metadata": {},
     "output_type": "execute_result"
    }
   ],
   "source": [
    "df_image.value_counts('source_annotation')"
   ]
  },
  {
   "cell_type": "markdown",
   "metadata": {},
   "source": [
    "### Filter out non-segmented images"
   ]
  },
  {
   "cell_type": "code",
   "execution_count": 48,
   "metadata": {},
   "outputs": [],
   "source": [
    "data_image = [image for image in data_image if image['segmented']]\n",
    "data_object = [obj for image in data_image for obj in image['object']]"
   ]
  },
  {
   "cell_type": "code",
   "execution_count": 49,
   "metadata": {},
   "outputs": [],
   "source": [
    "df_image = pd.DataFrame(data_image)\n",
    "df_object = pd.DataFrame(data_object)"
   ]
  },
  {
   "cell_type": "code",
   "execution_count": 50,
   "metadata": {},
   "outputs": [
    {
     "data": {
      "text/plain": [
       "(2913, 6934)"
      ]
     },
     "execution_count": 50,
     "metadata": {},
     "output_type": "execute_result"
    }
   ],
   "source": [
    "len(df_image), len(df_object)"
   ]
  },
  {
   "cell_type": "markdown",
   "metadata": {},
   "source": [
    "VOC2012 doesn't have segmentations"
   ]
  },
  {
   "cell_type": "code",
   "execution_count": 52,
   "metadata": {},
   "outputs": [
    {
     "data": {
      "text/plain": [
       "source_annotation\n",
       "PASCAL VOC2008    639\n",
       "PASCAL VOC2010    634\n",
       "PASCAL VOC2007    632\n",
       "PASCAL VOC2009    618\n",
       "PASCAL VOC2011    390\n",
       "Name: count, dtype: int64"
      ]
     },
     "execution_count": 52,
     "metadata": {},
     "output_type": "execute_result"
    }
   ],
   "source": [
    "df_image.value_counts('source_annotation')"
   ]
  },
  {
   "cell_type": "markdown",
   "metadata": {},
   "source": [
    "Most common object is person"
   ]
  },
  {
   "cell_type": "code",
   "execution_count": 56,
   "metadata": {},
   "outputs": [
    {
     "data": {
      "text/plain": [
       "name\n",
       "person         1734\n",
       "chair           549\n",
       "car             458\n",
       "bottle          358\n",
       "pottedplant     322\n",
       "sheep           308\n",
       "dog             299\n",
       "cat             286\n",
       "cow             284\n",
       "bird            277\n",
       "bus             237\n",
       "boat            232\n",
       "aeroplane       220\n",
       "sofa            209\n",
       "motorbike       204\n",
       "horse           204\n",
       "tvmonitor       199\n",
       "bicycle         197\n",
       "train           189\n",
       "diningtable     168\n",
       "Name: count, dtype: int64"
      ]
     },
     "execution_count": 56,
     "metadata": {},
     "output_type": "execute_result"
    }
   ],
   "source": [
    "df_object.value_counts('name')"
   ]
  },
  {
   "cell_type": "code",
   "execution_count": 57,
   "metadata": {},
   "outputs": [
    {
     "data": {
      "text/plain": [
       "count      20.000000\n",
       "mean      346.700000\n",
       "std       340.035463\n",
       "min       168.000000\n",
       "25%       204.000000\n",
       "50%       257.000000\n",
       "75%       311.500000\n",
       "max      1734.000000\n",
       "Name: count, dtype: float64"
      ]
     },
     "execution_count": 57,
     "metadata": {},
     "output_type": "execute_result"
    }
   ],
   "source": [
    "df_object.value_counts('name').describe()"
   ]
  }
 ],
 "metadata": {
  "kernelspec": {
   "display_name": ".venv",
   "language": "python",
   "name": "python3"
  },
  "language_info": {
   "codemirror_mode": {
    "name": "ipython",
    "version": 3
   },
   "file_extension": ".py",
   "mimetype": "text/x-python",
   "name": "python",
   "nbconvert_exporter": "python",
   "pygments_lexer": "ipython3",
   "version": "3.12.5"
  }
 },
 "nbformat": 4,
 "nbformat_minor": 2
}
